{
 "cells": [
  {
   "cell_type": "code",
   "execution_count": 1,
   "metadata": {
    "ExecuteTime": {
     "end_time": "2020-06-03T07:26:36.979378Z",
     "start_time": "2020-06-03T07:26:36.116575Z"
    }
   },
   "outputs": [],
   "source": [
    "import statsmodels.api as sm\n",
    "import statsmodels.formula.api as smf"
   ]
  },
  {
   "cell_type": "markdown",
   "metadata": {},
   "source": [
    "## Rdatasets\n",
    "\n",
    "http://vincentarelbundock.github.io/Rdatasets/datasets.html\n",
    "\n",
    "Growth curves of pigs in a 3x3 factorial experiment\n",
    "\n",
    "```\n",
    "data = sm.datasets.get_rdataset(dataname = \"dietox\", package = \"geepack\", cache=True).data\n",
    "```"
   ]
  },
  {
   "cell_type": "code",
   "execution_count": 14,
   "metadata": {
    "ExecuteTime": {
     "end_time": "2020-06-03T07:57:25.486677Z",
     "start_time": "2020-06-03T07:57:25.472389Z"
    }
   },
   "outputs": [
    {
     "data": {
      "text/html": [
       "<div>\n",
       "<style scoped>\n",
       "    .dataframe tbody tr th:only-of-type {\n",
       "        vertical-align: middle;\n",
       "    }\n",
       "\n",
       "    .dataframe tbody tr th {\n",
       "        vertical-align: top;\n",
       "    }\n",
       "\n",
       "    .dataframe thead th {\n",
       "        text-align: right;\n",
       "    }\n",
       "</style>\n",
       "<table border=\"1\" class=\"dataframe\">\n",
       "  <thead>\n",
       "    <tr style=\"text-align: right;\">\n",
       "      <th></th>\n",
       "      <th>Unnamed: 0</th>\n",
       "      <th>Weight</th>\n",
       "      <th>Feed</th>\n",
       "      <th>Time</th>\n",
       "      <th>Pig</th>\n",
       "      <th>Evit</th>\n",
       "      <th>Cu</th>\n",
       "      <th>Litter</th>\n",
       "    </tr>\n",
       "  </thead>\n",
       "  <tbody>\n",
       "    <tr>\n",
       "      <th>0</th>\n",
       "      <td>1</td>\n",
       "      <td>26.50000</td>\n",
       "      <td>NaN</td>\n",
       "      <td>1</td>\n",
       "      <td>4601</td>\n",
       "      <td>1</td>\n",
       "      <td>1</td>\n",
       "      <td>1</td>\n",
       "    </tr>\n",
       "    <tr>\n",
       "      <th>1</th>\n",
       "      <td>2</td>\n",
       "      <td>27.59999</td>\n",
       "      <td>5.200005</td>\n",
       "      <td>2</td>\n",
       "      <td>4601</td>\n",
       "      <td>1</td>\n",
       "      <td>1</td>\n",
       "      <td>1</td>\n",
       "    </tr>\n",
       "    <tr>\n",
       "      <th>2</th>\n",
       "      <td>3</td>\n",
       "      <td>36.50000</td>\n",
       "      <td>17.600000</td>\n",
       "      <td>3</td>\n",
       "      <td>4601</td>\n",
       "      <td>1</td>\n",
       "      <td>1</td>\n",
       "      <td>1</td>\n",
       "    </tr>\n",
       "    <tr>\n",
       "      <th>3</th>\n",
       "      <td>4</td>\n",
       "      <td>40.29999</td>\n",
       "      <td>28.500000</td>\n",
       "      <td>4</td>\n",
       "      <td>4601</td>\n",
       "      <td>1</td>\n",
       "      <td>1</td>\n",
       "      <td>1</td>\n",
       "    </tr>\n",
       "    <tr>\n",
       "      <th>4</th>\n",
       "      <td>5</td>\n",
       "      <td>49.09998</td>\n",
       "      <td>45.200001</td>\n",
       "      <td>5</td>\n",
       "      <td>4601</td>\n",
       "      <td>1</td>\n",
       "      <td>1</td>\n",
       "      <td>1</td>\n",
       "    </tr>\n",
       "  </tbody>\n",
       "</table>\n",
       "</div>"
      ],
      "text/plain": [
       "   Unnamed: 0    Weight       Feed  Time   Pig  Evit  Cu  Litter\n",
       "0           1  26.50000        NaN     1  4601     1   1       1\n",
       "1           2  27.59999   5.200005     2  4601     1   1       1\n",
       "2           3  36.50000  17.600000     3  4601     1   1       1\n",
       "3           4  40.29999  28.500000     4  4601     1   1       1\n",
       "4           5  49.09998  45.200001     5  4601     1   1       1"
      ]
     },
     "execution_count": 14,
     "metadata": {},
     "output_type": "execute_result"
    }
   ],
   "source": [
    "import pandas as pd\n",
    "dat = pd.read_csv('../data/dietox.csv')\n",
    "dat.head()"
   ]
  },
  {
   "cell_type": "code",
   "execution_count": 17,
   "metadata": {
    "ExecuteTime": {
     "end_time": "2020-06-03T07:57:55.746637Z",
     "start_time": "2020-06-03T07:57:55.742560Z"
    }
   },
   "outputs": [
    {
     "name": "stdout",
     "output_type": "stream",
     "text": [
      "Help on method from_formula in module statsmodels.regression.mixed_linear_model:\n",
      "\n",
      "from_formula(formula, data, re_formula=None, vc_formula=None, subset=None, use_sparse=False, missing='none', *args, **kwargs) method of builtins.type instance\n",
      "    Create a Model from a formula and dataframe.\n",
      "    \n",
      "    Parameters\n",
      "    ----------\n",
      "    formula : str or generic Formula object\n",
      "        The formula specifying the model\n",
      "    data : array_like\n",
      "        The data for the model. See Notes.\n",
      "    re_formula : str\n",
      "        A one-sided formula defining the variance structure of the\n",
      "        model.  The default gives a random intercept for each\n",
      "        group.\n",
      "    vc_formula : dict-like\n",
      "        Formulas describing variance components.  `vc_formula[vc]` is\n",
      "        the formula for the component with variance parameter named\n",
      "        `vc`.  The formula is processed into a matrix, and the columns\n",
      "        of this matrix are linearly combined with independent random\n",
      "        coefficients having mean zero and a common variance.\n",
      "    subset : array_like\n",
      "        An array-like object of booleans, integers, or index\n",
      "        values that indicate the subset of df to use in the\n",
      "        model. Assumes df is a `pandas.DataFrame`\n",
      "    missing : str\n",
      "        Either 'none' or 'drop'\n",
      "    args : extra arguments\n",
      "        These are passed to the model\n",
      "    kwargs : extra keyword arguments\n",
      "        These are passed to the model with one exception. The\n",
      "        ``eval_env`` keyword is passed to patsy. It can be either a\n",
      "        :class:`patsy:patsy.EvalEnvironment` object or an integer\n",
      "        indicating the depth of the namespace to use. For example, the\n",
      "        default ``eval_env=0`` uses the calling namespace. If you wish\n",
      "        to use a \"clean\" environment set ``eval_env=-1``.\n",
      "    \n",
      "    Returns\n",
      "    -------\n",
      "    model : Model instance\n",
      "    \n",
      "    Notes\n",
      "    -----\n",
      "    `data` must define __getitem__ with the keys in the formula\n",
      "    terms args and kwargs are passed on to the model\n",
      "    instantiation. E.g., a numpy structured or rec array, a\n",
      "    dictionary, or a pandas DataFrame.\n",
      "    \n",
      "    If the variance component is intended to produce random\n",
      "    intercepts for disjoint subsets of a group, specified by\n",
      "    string labels or a categorical data value, always use '0 +' in\n",
      "    the formula so that no overall intercept is included.\n",
      "    \n",
      "    If the variance components specify random slopes and you do\n",
      "    not also want a random group-level intercept in the model,\n",
      "    then use '0 +' in the formula to exclude the intercept.\n",
      "    \n",
      "    The variance components formulas are processed separately for\n",
      "    each group.  If a variable is categorical the results will not\n",
      "    be affected by whether the group labels are distinct or\n",
      "    re-used over the top-level groups.\n",
      "    \n",
      "    Examples\n",
      "    --------\n",
      "    Suppose we have data from an educational study with students\n",
      "    nested in classrooms nested in schools.  The students take a\n",
      "    test, and we want to relate the test scores to the students'\n",
      "    ages, while accounting for the effects of classrooms and\n",
      "    schools.  The school will be the top-level group, and the\n",
      "    classroom is a nested group that is specified as a variance\n",
      "    component.  Note that the schools may have different number of\n",
      "    classrooms, and the classroom labels may (but need not be)\n",
      "    different across the schools.\n",
      "    \n",
      "    >>> vc = {'classroom': '0 + C(classroom)'}\n",
      "    >>> MixedLM.from_formula('test_score ~ age', vc_formula=vc,                                   re_formula='1', groups='school', data=data)\n",
      "    \n",
      "    Now suppose we also have a previous test score called\n",
      "    'pretest'.  If we want the relationship between pretest\n",
      "    scores and the current test to vary by classroom, we can\n",
      "    specify a random slope for the pretest score\n",
      "    \n",
      "    >>> vc = {'classroom': '0 + C(classroom)', 'pretest': '0 + pretest'}\n",
      "    >>> MixedLM.from_formula('test_score ~ age + pretest', vc_formula=vc,                                   re_formula='1', groups='school', data=data)\n",
      "    \n",
      "    The following model is almost equivalent to the previous one,\n",
      "    but here the classroom random intercept and pretest slope may\n",
      "    be correlated.\n",
      "    \n",
      "    >>> vc = {'classroom': '0 + C(classroom)'}\n",
      "    >>> MixedLM.from_formula('test_score ~ age + pretest', vc_formula=vc,                                   re_formula='1 + pretest', groups='school',                                   data=data)\n",
      "\n"
     ]
    }
   ],
   "source": [
    "help(smf.mixedlm)"
   ]
  },
  {
   "cell_type": "code",
   "execution_count": 16,
   "metadata": {
    "ExecuteTime": {
     "end_time": "2020-06-03T07:57:44.829274Z",
     "start_time": "2020-06-03T07:57:44.575779Z"
    }
   },
   "outputs": [
    {
     "name": "stdout",
     "output_type": "stream",
     "text": [
      "         Mixed Linear Model Regression Results\n",
      "========================================================\n",
      "Model:            MixedLM Dependent Variable: Weight    \n",
      "No. Observations: 861     Method:             REML      \n",
      "No. Groups:       72      Scale:              11.3669   \n",
      "Min. group size:  11      Log-Likelihood:     -2404.7753\n",
      "Max. group size:  12      Converged:          Yes       \n",
      "Mean group size:  12.0                                  \n",
      "--------------------------------------------------------\n",
      "             Coef.  Std.Err.    z    P>|z| [0.025 0.975]\n",
      "--------------------------------------------------------\n",
      "Intercept    15.724    0.788  19.952 0.000 14.179 17.268\n",
      "Time          6.943    0.033 207.939 0.000  6.877  7.008\n",
      "Group Var    40.394    2.149                            \n",
      "========================================================\n",
      "\n"
     ]
    }
   ],
   "source": [
    "md = smf.mixedlm(\"Weight ~ Time\", dat, groups=dat[\"Pig\"])\n",
    "mdf = md.fit()\n",
    "print(mdf.summary())"
   ]
  },
  {
   "cell_type": "code",
   "execution_count": 22,
   "metadata": {
    "ExecuteTime": {
     "end_time": "2020-06-03T08:04:47.399088Z",
     "start_time": "2020-06-03T08:04:47.396574Z"
    }
   },
   "outputs": [],
   "source": [
    "# dat['Feed']= dat['Feed'].fillna(dat['Feed'].mean())\n",
    "\n",
    "# vc = {'Feed': '0 + Feed'}\n",
    "# md2 = sm.MixedLM.from_formula('Weight ~ Time + Feed', \n",
    "#                               vc_formula=vc,  groups='Pig', data=dat)\n",
    "# mdf2 = md2.fit()\n",
    "# print(mdf2.summary())"
   ]
  },
  {
   "cell_type": "code",
   "execution_count": 10,
   "metadata": {
    "ExecuteTime": {
     "end_time": "2020-06-03T07:45:49.670962Z",
     "start_time": "2020-06-03T07:45:44.748247Z"
    }
   },
   "outputs": [
    {
     "name": "stderr",
     "output_type": "stream",
     "text": [
      "/opt/anaconda3/lib/python3.7/site-packages/statsmodels/base/model.py:568: ConvergenceWarning: Maximum Likelihood optimization failed to converge. Check mle_retvals\n",
      "  \"Check mle_retvals\", ConvergenceWarning)\n",
      "/opt/anaconda3/lib/python3.7/site-packages/statsmodels/regression/mixed_linear_model.py:2114: ConvergenceWarning: Retrying MixedLM optimization with lbfgs\n",
      "  ConvergenceWarning)\n",
      "/opt/anaconda3/lib/python3.7/site-packages/statsmodels/base/model.py:568: ConvergenceWarning: Maximum Likelihood optimization failed to converge. Check mle_retvals\n",
      "  \"Check mle_retvals\", ConvergenceWarning)\n",
      "/opt/anaconda3/lib/python3.7/site-packages/statsmodels/regression/mixed_linear_model.py:2114: ConvergenceWarning: Retrying MixedLM optimization with cg\n",
      "  ConvergenceWarning)\n"
     ]
    },
    {
     "name": "stdout",
     "output_type": "stream",
     "text": [
      "           Mixed Linear Model Regression Results\n",
      "===========================================================\n",
      "Model:             MixedLM  Dependent Variable:  Weight    \n",
      "No. Observations:  861      Method:              REML      \n",
      "No. Groups:        72       Scale:               5.7891    \n",
      "Min. group size:   11       Log-Likelihood:      -2220.3890\n",
      "Max. group size:   12       Converged:           No        \n",
      "Mean group size:   12.0                                    \n",
      "-----------------------------------------------------------\n",
      "                 Coef.  Std.Err.   z    P>|z| [0.025 0.975]\n",
      "-----------------------------------------------------------\n",
      "Intercept        15.739    0.672 23.438 0.000 14.423 17.055\n",
      "Time              6.939    0.085 81.326 0.000  6.772  7.106\n",
      "Group Var        30.266    4.271                           \n",
      "Group x Time Cov  0.746    0.304                           \n",
      "Time Var          0.483    0.046                           \n",
      "===========================================================\n",
      "\n"
     ]
    },
    {
     "name": "stderr",
     "output_type": "stream",
     "text": [
      "/opt/anaconda3/lib/python3.7/site-packages/statsmodels/base/model.py:568: ConvergenceWarning: Maximum Likelihood optimization failed to converge. Check mle_retvals\n",
      "  \"Check mle_retvals\", ConvergenceWarning)\n",
      "/opt/anaconda3/lib/python3.7/site-packages/statsmodels/regression/mixed_linear_model.py:2118: ConvergenceWarning: MixedLM optimization failed, trying a different optimizer may help.\n",
      "  warnings.warn(msg, ConvergenceWarning)\n",
      "/opt/anaconda3/lib/python3.7/site-packages/statsmodels/regression/mixed_linear_model.py:2130: ConvergenceWarning: Gradient optimization failed, |grad| = 31.645802\n",
      "  warnings.warn(msg, ConvergenceWarning)\n"
     ]
    }
   ],
   "source": [
    "md = smf.mixedlm(\"Weight ~ Time\", dat, groups=dat[\"Pig\"], re_formula=\"~Time\")\n",
    "mdf = md.fit()\n",
    "print(mdf.summary())"
   ]
  },
  {
   "cell_type": "markdown",
   "metadata": {},
   "source": [
    "https://ademos.people.uic.edu/Chapter17.html"
   ]
  },
  {
   "cell_type": "code",
   "execution_count": null,
   "metadata": {},
   "outputs": [],
   "source": []
  }
 ],
 "metadata": {
  "kernelspec": {
   "display_name": "Python 3",
   "language": "python",
   "name": "python3"
  },
  "language_info": {
   "codemirror_mode": {
    "name": "ipython",
    "version": 3
   },
   "file_extension": ".py",
   "mimetype": "text/x-python",
   "name": "python",
   "nbconvert_exporter": "python",
   "pygments_lexer": "ipython3",
   "version": "3.7.6"
  },
  "toc": {
   "base_numbering": 1,
   "nav_menu": {},
   "number_sections": false,
   "sideBar": true,
   "skip_h1_title": false,
   "title_cell": "Table of Contents",
   "title_sidebar": "Contents",
   "toc_cell": false,
   "toc_position": {},
   "toc_section_display": true,
   "toc_window_display": false
  }
 },
 "nbformat": 4,
 "nbformat_minor": 4
}
