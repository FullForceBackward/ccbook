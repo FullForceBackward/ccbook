{
 "cells": [
  {
   "cell_type": "code",
   "execution_count": 1,
   "metadata": {
    "ExecuteTime": {
     "end_time": "2020-01-13T07:56:37.467382Z",
     "start_time": "2020-01-13T07:56:37.303790Z"
    }
   },
   "outputs": [],
   "source": [
    "import requests\n",
    "from bs4 import BeautifulSoup"
   ]
  },
  {
   "cell_type": "code",
   "execution_count": 26,
   "metadata": {
    "ExecuteTime": {
     "end_time": "2020-01-13T08:02:26.132989Z",
     "start_time": "2020-01-13T08:02:26.121096Z"
    }
   },
   "outputs": [],
   "source": [
    "url = 'https://www.bixiadu.com/bxd-3501/'\n",
    "page = requests.get(url)\n",
    "page.encoding = 'utf-8'\n",
    "soup = BeautifulSoup(page.text, 'html.parser') "
   ]
  },
  {
   "cell_type": "code",
   "execution_count": 32,
   "metadata": {
    "ExecuteTime": {
     "end_time": "2020-01-13T08:02:57.596665Z",
     "start_time": "2020-01-13T08:02:57.593957Z"
    }
   },
   "outputs": [],
   "source": [
    "urls = {i.a['href'] for i in soup.find_all('dd')}\n",
    "urls = sorted(list(urls))\n",
    "urls = [url+i for i in list(urls)]"
   ]
  },
  {
   "cell_type": "code",
   "execution_count": 35,
   "metadata": {
    "ExecuteTime": {
     "end_time": "2020-01-13T08:05:09.449772Z",
     "start_time": "2020-01-13T08:05:09.445905Z"
    }
   },
   "outputs": [
    {
     "data": {
      "text/plain": [
       "['https://www.bixiadu.com/bxd-3501/2065645.html',\n",
       " 'https://www.bixiadu.com/bxd-3501/2065646.html',\n",
       " 'https://www.bixiadu.com/bxd-3501/2065647.html',\n",
       " 'https://www.bixiadu.com/bxd-3501/2065648.html',\n",
       " 'https://www.bixiadu.com/bxd-3501/2065649.html',\n",
       " 'https://www.bixiadu.com/bxd-3501/2065650.html',\n",
       " 'https://www.bixiadu.com/bxd-3501/2065651.html',\n",
       " 'https://www.bixiadu.com/bxd-3501/2065652.html',\n",
       " 'https://www.bixiadu.com/bxd-3501/2065653.html',\n",
       " 'https://www.bixiadu.com/bxd-3501/2065654.html',\n",
       " 'https://www.bixiadu.com/bxd-3501/2065655.html',\n",
       " 'https://www.bixiadu.com/bxd-3501/2065656.html',\n",
       " 'https://www.bixiadu.com/bxd-3501/2065657.html',\n",
       " 'https://www.bixiadu.com/bxd-3501/2065658.html',\n",
       " 'https://www.bixiadu.com/bxd-3501/2065659.html',\n",
       " 'https://www.bixiadu.com/bxd-3501/2065660.html',\n",
       " 'https://www.bixiadu.com/bxd-3501/2065661.html',\n",
       " 'https://www.bixiadu.com/bxd-3501/2065662.html',\n",
       " 'https://www.bixiadu.com/bxd-3501/2065663.html',\n",
       " 'https://www.bixiadu.com/bxd-3501/2065664.html',\n",
       " 'https://www.bixiadu.com/bxd-3501/2065665.html',\n",
       " 'https://www.bixiadu.com/bxd-3501/2065666.html',\n",
       " 'https://www.bixiadu.com/bxd-3501/2065667.html',\n",
       " 'https://www.bixiadu.com/bxd-3501/2065668.html',\n",
       " 'https://www.bixiadu.com/bxd-3501/2065669.html',\n",
       " 'https://www.bixiadu.com/bxd-3501/2065670.html']"
      ]
     },
     "execution_count": 35,
     "metadata": {},
     "output_type": "execute_result"
    }
   ],
   "source": [
    "urls"
   ]
  },
  {
   "cell_type": "code",
   "execution_count": 37,
   "metadata": {
    "ExecuteTime": {
     "end_time": "2020-01-13T10:49:13.386202Z",
     "start_time": "2020-01-13T10:46:16.439524Z"
    }
   },
   "outputs": [
    {
     "name": "stdout",
     "output_type": "stream",
     "text": [
      "0 https://www.bixiadu.com/bxd-3501/2065645.html\n",
      "1 https://www.bixiadu.com/bxd-3501/2065646.html\n",
      "2 https://www.bixiadu.com/bxd-3501/2065647.html\n",
      "3 https://www.bixiadu.com/bxd-3501/2065648.html\n",
      "4 https://www.bixiadu.com/bxd-3501/2065649.html\n",
      "5 https://www.bixiadu.com/bxd-3501/2065650.html\n",
      "6 https://www.bixiadu.com/bxd-3501/2065651.html\n",
      "7 https://www.bixiadu.com/bxd-3501/2065652.html\n",
      "8 https://www.bixiadu.com/bxd-3501/2065653.html\n",
      "9 https://www.bixiadu.com/bxd-3501/2065654.html\n",
      "10 https://www.bixiadu.com/bxd-3501/2065655.html\n",
      "11 https://www.bixiadu.com/bxd-3501/2065656.html\n",
      "12 https://www.bixiadu.com/bxd-3501/2065657.html\n",
      "13 https://www.bixiadu.com/bxd-3501/2065658.html\n",
      "14 https://www.bixiadu.com/bxd-3501/2065659.html\n",
      "15 https://www.bixiadu.com/bxd-3501/2065660.html\n",
      "16 https://www.bixiadu.com/bxd-3501/2065661.html\n",
      "17 https://www.bixiadu.com/bxd-3501/2065662.html\n",
      "18 https://www.bixiadu.com/bxd-3501/2065663.html\n",
      "19 https://www.bixiadu.com/bxd-3501/2065664.html\n",
      "20 https://www.bixiadu.com/bxd-3501/2065665.html\n",
      "21 https://www.bixiadu.com/bxd-3501/2065666.html\n",
      "22 https://www.bixiadu.com/bxd-3501/2065667.html\n",
      "23 https://www.bixiadu.com/bxd-3501/2065668.html\n",
      "24 https://www.bixiadu.com/bxd-3501/2065669.html\n",
      "25 https://www.bixiadu.com/bxd-3501/2065670.html\n"
     ]
    }
   ],
   "source": [
    "for k, i in enumerate(urls):\n",
    "    print(k, i)\n",
    "    page = requests.get(i)\n",
    "    page.encoding = 'utf-8'\n",
    "    soup = BeautifulSoup(page.text, 'html.parser') \n",
    "    title = soup.select(\".bookname\")[0]('h1')[0].text\n",
    "    body = soup.select('#content')[0].text\n",
    "    body = body.replace('\\u3000\\u3000\\xa0\\xa0\\xa0\\xa0', '\\n')\n",
    "    story = title + '\\n' + body\n",
    "    with open('13chapters.txt', 'a') as f:\n",
    "        f.write(story)"
   ]
  },
  {
   "cell_type": "code",
   "execution_count": null,
   "metadata": {},
   "outputs": [],
   "source": []
  }
 ],
 "metadata": {
  "kernelspec": {
   "display_name": "Python 3",
   "language": "python",
   "name": "python3"
  },
  "language_info": {
   "codemirror_mode": {
    "name": "ipython",
    "version": 3
   },
   "file_extension": ".py",
   "mimetype": "text/x-python",
   "name": "python",
   "nbconvert_exporter": "python",
   "pygments_lexer": "ipython3",
   "version": "3.7.3"
  },
  "latex_envs": {
   "LaTeX_envs_menu_present": true,
   "autoclose": false,
   "autocomplete": true,
   "bibliofile": "biblio.bib",
   "cite_by": "apalike",
   "current_citInitial": 1,
   "eqLabelWithNumbers": true,
   "eqNumInitial": 1,
   "hotkeys": {
    "equation": "Ctrl-E",
    "itemize": "Ctrl-I"
   },
   "labels_anchors": false,
   "latex_user_defs": false,
   "report_style_numbering": false,
   "user_envs_cfg": false
  },
  "toc": {
   "base_numbering": 1,
   "nav_menu": {},
   "number_sections": false,
   "sideBar": true,
   "skip_h1_title": false,
   "title_cell": "Table of Contents",
   "title_sidebar": "Contents",
   "toc_cell": false,
   "toc_position": {},
   "toc_section_display": true,
   "toc_window_display": false
  }
 },
 "nbformat": 4,
 "nbformat_minor": 2
}
